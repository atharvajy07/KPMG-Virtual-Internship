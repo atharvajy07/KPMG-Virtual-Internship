{
 "cells": [
  {
   "cell_type": "code",
   "execution_count": 1,
   "metadata": {},
   "outputs": [],
   "source": [
    "#Importing packages\n",
    "import pandas as pd\n",
    "import numpy as np\n",
    "import matplotlib.pyplot as plt"
   ]
  },
  {
   "cell_type": "code",
   "execution_count": 2,
   "metadata": {},
   "outputs": [],
   "source": [
    "Transactions = pd.read_excel('KPMG_Data.xlsx',sheet_name=0)\n",
    "Demographic = pd.read_excel('KPMG_Data.xlsx',sheet_name=1)\n",
    "New_customer = pd.read_excel('KPMG_Data.xlsx',sheet_name=2)\n",
    "Address = pd.read_excel('KPMG_Data.xlsx',sheet_name=3)"
   ]
  },
  {
   "cell_type": "code",
   "execution_count": 3,
   "metadata": {},
   "outputs": [
    {
     "data": {
      "text/html": [
       "<div>\n",
       "<style scoped>\n",
       "    .dataframe tbody tr th:only-of-type {\n",
       "        vertical-align: middle;\n",
       "    }\n",
       "\n",
       "    .dataframe tbody tr th {\n",
       "        vertical-align: top;\n",
       "    }\n",
       "\n",
       "    .dataframe thead th {\n",
       "        text-align: right;\n",
       "    }\n",
       "</style>\n",
       "<table border=\"1\" class=\"dataframe\">\n",
       "  <thead>\n",
       "    <tr style=\"text-align: right;\">\n",
       "      <th></th>\n",
       "      <th>Unnamed: 0</th>\n",
       "      <th>transaction_id</th>\n",
       "      <th>product_id</th>\n",
       "      <th>customer_id</th>\n",
       "      <th>transaction_date</th>\n",
       "      <th>online_order</th>\n",
       "      <th>order_status</th>\n",
       "      <th>brand</th>\n",
       "      <th>product_line</th>\n",
       "      <th>product_class</th>\n",
       "      <th>product_size</th>\n",
       "      <th>list_price</th>\n",
       "      <th>standard_cost</th>\n",
       "      <th>product_first_sold_date</th>\n",
       "      <th>Profit</th>\n",
       "    </tr>\n",
       "  </thead>\n",
       "  <tbody>\n",
       "    <tr>\n",
       "      <th>0</th>\n",
       "      <td>0</td>\n",
       "      <td>1</td>\n",
       "      <td>2</td>\n",
       "      <td>2950</td>\n",
       "      <td>2017-02-25</td>\n",
       "      <td>0</td>\n",
       "      <td>Approved</td>\n",
       "      <td>Solex</td>\n",
       "      <td>Standard</td>\n",
       "      <td>medium</td>\n",
       "      <td>medium</td>\n",
       "      <td>71.49</td>\n",
       "      <td>53.62</td>\n",
       "      <td>2012-12-02</td>\n",
       "      <td>17.87</td>\n",
       "    </tr>\n",
       "    <tr>\n",
       "      <th>1</th>\n",
       "      <td>1</td>\n",
       "      <td>2</td>\n",
       "      <td>3</td>\n",
       "      <td>3120</td>\n",
       "      <td>2017-05-21</td>\n",
       "      <td>1</td>\n",
       "      <td>Approved</td>\n",
       "      <td>Trek Bicycles</td>\n",
       "      <td>Standard</td>\n",
       "      <td>medium</td>\n",
       "      <td>large</td>\n",
       "      <td>2091.47</td>\n",
       "      <td>388.92</td>\n",
       "      <td>2014-03-03</td>\n",
       "      <td>1702.55</td>\n",
       "    </tr>\n",
       "    <tr>\n",
       "      <th>2</th>\n",
       "      <td>2</td>\n",
       "      <td>3</td>\n",
       "      <td>37</td>\n",
       "      <td>402</td>\n",
       "      <td>2017-10-16</td>\n",
       "      <td>0</td>\n",
       "      <td>Approved</td>\n",
       "      <td>OHM Cycles</td>\n",
       "      <td>Standard</td>\n",
       "      <td>low</td>\n",
       "      <td>medium</td>\n",
       "      <td>1793.43</td>\n",
       "      <td>248.82</td>\n",
       "      <td>1999-07-20</td>\n",
       "      <td>1544.61</td>\n",
       "    </tr>\n",
       "    <tr>\n",
       "      <th>3</th>\n",
       "      <td>3</td>\n",
       "      <td>4</td>\n",
       "      <td>88</td>\n",
       "      <td>3135</td>\n",
       "      <td>2017-08-31</td>\n",
       "      <td>0</td>\n",
       "      <td>Approved</td>\n",
       "      <td>Norco Bicycles</td>\n",
       "      <td>Standard</td>\n",
       "      <td>medium</td>\n",
       "      <td>medium</td>\n",
       "      <td>1198.46</td>\n",
       "      <td>381.10</td>\n",
       "      <td>1998-12-16</td>\n",
       "      <td>817.36</td>\n",
       "    </tr>\n",
       "    <tr>\n",
       "      <th>4</th>\n",
       "      <td>4</td>\n",
       "      <td>5</td>\n",
       "      <td>78</td>\n",
       "      <td>787</td>\n",
       "      <td>2017-10-01</td>\n",
       "      <td>1</td>\n",
       "      <td>Approved</td>\n",
       "      <td>Giant Bicycles</td>\n",
       "      <td>Standard</td>\n",
       "      <td>medium</td>\n",
       "      <td>large</td>\n",
       "      <td>1765.30</td>\n",
       "      <td>709.48</td>\n",
       "      <td>2015-08-10</td>\n",
       "      <td>1055.82</td>\n",
       "    </tr>\n",
       "  </tbody>\n",
       "</table>\n",
       "</div>"
      ],
      "text/plain": [
       "   Unnamed: 0  transaction_id  product_id  customer_id transaction_date  \\\n",
       "0           0               1           2         2950       2017-02-25   \n",
       "1           1               2           3         3120       2017-05-21   \n",
       "2           2               3          37          402       2017-10-16   \n",
       "3           3               4          88         3135       2017-08-31   \n",
       "4           4               5          78          787       2017-10-01   \n",
       "\n",
       "   online_order order_status           brand product_line product_class  \\\n",
       "0             0     Approved           Solex     Standard        medium   \n",
       "1             1     Approved   Trek Bicycles     Standard        medium   \n",
       "2             0     Approved      OHM Cycles     Standard           low   \n",
       "3             0     Approved  Norco Bicycles     Standard        medium   \n",
       "4             1     Approved  Giant Bicycles     Standard        medium   \n",
       "\n",
       "  product_size  list_price  standard_cost product_first_sold_date   Profit  \n",
       "0       medium       71.49          53.62              2012-12-02    17.87  \n",
       "1        large     2091.47         388.92              2014-03-03  1702.55  \n",
       "2       medium     1793.43         248.82              1999-07-20  1544.61  \n",
       "3       medium     1198.46         381.10              1998-12-16   817.36  \n",
       "4        large     1765.30         709.48              2015-08-10  1055.82  "
      ]
     },
     "execution_count": 3,
     "metadata": {},
     "output_type": "execute_result"
    }
   ],
   "source": [
    "Transactions.head()"
   ]
  },
  {
   "cell_type": "code",
   "execution_count": 7,
   "metadata": {},
   "outputs": [],
   "source": [
    "Address.drop('Unnamed: 0',axis=1,inplace=True)"
   ]
  },
  {
   "cell_type": "code",
   "execution_count": 55,
   "metadata": {},
   "outputs": [
    {
     "data": {
      "text/html": [
       "<div>\n",
       "<style scoped>\n",
       "    .dataframe tbody tr th:only-of-type {\n",
       "        vertical-align: middle;\n",
       "    }\n",
       "\n",
       "    .dataframe tbody tr th {\n",
       "        vertical-align: top;\n",
       "    }\n",
       "\n",
       "    .dataframe thead th {\n",
       "        text-align: right;\n",
       "    }\n",
       "</style>\n",
       "<table border=\"1\" class=\"dataframe\">\n",
       "  <thead>\n",
       "    <tr style=\"text-align: right;\">\n",
       "      <th></th>\n",
       "      <th>customer_id</th>\n",
       "      <th>first_name</th>\n",
       "      <th>last_name</th>\n",
       "      <th>gender</th>\n",
       "      <th>past_3_years_bike_related_purchases</th>\n",
       "      <th>DOB</th>\n",
       "      <th>job_title</th>\n",
       "      <th>job_industry_category</th>\n",
       "      <th>wealth_segment</th>\n",
       "      <th>deceased_indicator</th>\n",
       "      <th>owns_car</th>\n",
       "      <th>tenure</th>\n",
       "      <th>age</th>\n",
       "      <th>todays date</th>\n",
       "    </tr>\n",
       "  </thead>\n",
       "  <tbody>\n",
       "    <tr>\n",
       "      <th>0</th>\n",
       "      <td>1</td>\n",
       "      <td>Laraine</td>\n",
       "      <td>Medendorp</td>\n",
       "      <td>Female</td>\n",
       "      <td>93</td>\n",
       "      <td>1953-10-12</td>\n",
       "      <td>Executive Secretary</td>\n",
       "      <td>Health</td>\n",
       "      <td>Mass Customer</td>\n",
       "      <td>False</td>\n",
       "      <td>Yes</td>\n",
       "      <td>11</td>\n",
       "      <td>66</td>\n",
       "      <td>2020-07-11</td>\n",
       "    </tr>\n",
       "    <tr>\n",
       "      <th>1</th>\n",
       "      <td>2</td>\n",
       "      <td>Eli</td>\n",
       "      <td>Bockman</td>\n",
       "      <td>Male</td>\n",
       "      <td>81</td>\n",
       "      <td>1980-12-16</td>\n",
       "      <td>Administrative Officer</td>\n",
       "      <td>Financial Services</td>\n",
       "      <td>Mass Customer</td>\n",
       "      <td>False</td>\n",
       "      <td>Yes</td>\n",
       "      <td>16</td>\n",
       "      <td>39</td>\n",
       "      <td>2020-07-11</td>\n",
       "    </tr>\n",
       "    <tr>\n",
       "      <th>2</th>\n",
       "      <td>3</td>\n",
       "      <td>Arlin</td>\n",
       "      <td>Dearle</td>\n",
       "      <td>Male</td>\n",
       "      <td>61</td>\n",
       "      <td>1954-01-20</td>\n",
       "      <td>Recruiting Manager</td>\n",
       "      <td>Property</td>\n",
       "      <td>Mass Customer</td>\n",
       "      <td>False</td>\n",
       "      <td>Yes</td>\n",
       "      <td>15</td>\n",
       "      <td>66</td>\n",
       "      <td>2020-07-11</td>\n",
       "    </tr>\n",
       "    <tr>\n",
       "      <th>3</th>\n",
       "      <td>4</td>\n",
       "      <td>Talbot</td>\n",
       "      <td>NaN</td>\n",
       "      <td>Male</td>\n",
       "      <td>33</td>\n",
       "      <td>1961-10-03</td>\n",
       "      <td>NaN</td>\n",
       "      <td>IT</td>\n",
       "      <td>Mass Customer</td>\n",
       "      <td>False</td>\n",
       "      <td>No</td>\n",
       "      <td>7</td>\n",
       "      <td>58</td>\n",
       "      <td>2020-07-11</td>\n",
       "    </tr>\n",
       "    <tr>\n",
       "      <th>4</th>\n",
       "      <td>6</td>\n",
       "      <td>Curr</td>\n",
       "      <td>Duckhouse</td>\n",
       "      <td>Male</td>\n",
       "      <td>35</td>\n",
       "      <td>1966-09-16</td>\n",
       "      <td>NaN</td>\n",
       "      <td>Retail</td>\n",
       "      <td>High Net Worth</td>\n",
       "      <td>False</td>\n",
       "      <td>Yes</td>\n",
       "      <td>13</td>\n",
       "      <td>53</td>\n",
       "      <td>2020-07-11</td>\n",
       "    </tr>\n",
       "  </tbody>\n",
       "</table>\n",
       "</div>"
      ],
      "text/plain": [
       "   customer_id first_name  last_name  gender  \\\n",
       "0            1    Laraine  Medendorp  Female   \n",
       "1            2        Eli    Bockman    Male   \n",
       "2            3      Arlin     Dearle    Male   \n",
       "3            4     Talbot        NaN    Male   \n",
       "4            6       Curr  Duckhouse    Male   \n",
       "\n",
       "   past_3_years_bike_related_purchases        DOB               job_title  \\\n",
       "0                                   93 1953-10-12     Executive Secretary   \n",
       "1                                   81 1980-12-16  Administrative Officer   \n",
       "2                                   61 1954-01-20      Recruiting Manager   \n",
       "3                                   33 1961-10-03                     NaN   \n",
       "4                                   35 1966-09-16                     NaN   \n",
       "\n",
       "  job_industry_category  wealth_segment  deceased_indicator owns_car  tenure  \\\n",
       "0                Health   Mass Customer               False      Yes      11   \n",
       "1    Financial Services   Mass Customer               False      Yes      16   \n",
       "2              Property   Mass Customer               False      Yes      15   \n",
       "3                    IT   Mass Customer               False       No       7   \n",
       "4                Retail  High Net Worth               False      Yes      13   \n",
       "\n",
       "   age todays date  \n",
       "0   66  2020-07-11  \n",
       "1   39  2020-07-11  \n",
       "2   66  2020-07-11  \n",
       "3   58  2020-07-11  \n",
       "4   53  2020-07-11  "
      ]
     },
     "execution_count": 55,
     "metadata": {},
     "output_type": "execute_result"
    }
   ],
   "source": [
    "Demographic.head()"
   ]
  },
  {
   "cell_type": "code",
   "execution_count": 52,
   "metadata": {},
   "outputs": [],
   "source": [
    "New_customer.drop('Unnamed: 0',axis=1,inplace=True)"
   ]
  },
  {
   "cell_type": "markdown",
   "metadata": {},
   "source": [
    "## Transactions"
   ]
  },
  {
   "cell_type": "code",
   "execution_count": 56,
   "metadata": {},
   "outputs": [
    {
     "data": {
      "text/html": [
       "<div>\n",
       "<style scoped>\n",
       "    .dataframe tbody tr th:only-of-type {\n",
       "        vertical-align: middle;\n",
       "    }\n",
       "\n",
       "    .dataframe tbody tr th {\n",
       "        vertical-align: top;\n",
       "    }\n",
       "\n",
       "    .dataframe thead th {\n",
       "        text-align: right;\n",
       "    }\n",
       "</style>\n",
       "<table border=\"1\" class=\"dataframe\">\n",
       "  <thead>\n",
       "    <tr style=\"text-align: right;\">\n",
       "      <th></th>\n",
       "      <th>transaction_id</th>\n",
       "      <th>product_id</th>\n",
       "      <th>customer_id</th>\n",
       "      <th>transaction_date</th>\n",
       "      <th>online_order</th>\n",
       "      <th>order_status</th>\n",
       "      <th>brand</th>\n",
       "      <th>product_line</th>\n",
       "      <th>product_class</th>\n",
       "      <th>product_size</th>\n",
       "      <th>list_price</th>\n",
       "      <th>standard_cost</th>\n",
       "      <th>product_first_sold_date</th>\n",
       "      <th>Profit</th>\n",
       "    </tr>\n",
       "  </thead>\n",
       "  <tbody>\n",
       "    <tr>\n",
       "      <th>0</th>\n",
       "      <td>1</td>\n",
       "      <td>2</td>\n",
       "      <td>2950</td>\n",
       "      <td>2017-02-25</td>\n",
       "      <td>0</td>\n",
       "      <td>Approved</td>\n",
       "      <td>Solex</td>\n",
       "      <td>Standard</td>\n",
       "      <td>medium</td>\n",
       "      <td>medium</td>\n",
       "      <td>71.49</td>\n",
       "      <td>53.62</td>\n",
       "      <td>2012-12-02</td>\n",
       "      <td>17.87</td>\n",
       "    </tr>\n",
       "    <tr>\n",
       "      <th>1</th>\n",
       "      <td>2</td>\n",
       "      <td>3</td>\n",
       "      <td>3120</td>\n",
       "      <td>2017-05-21</td>\n",
       "      <td>1</td>\n",
       "      <td>Approved</td>\n",
       "      <td>Trek Bicycles</td>\n",
       "      <td>Standard</td>\n",
       "      <td>medium</td>\n",
       "      <td>large</td>\n",
       "      <td>2091.47</td>\n",
       "      <td>388.92</td>\n",
       "      <td>2014-03-03</td>\n",
       "      <td>1702.55</td>\n",
       "    </tr>\n",
       "    <tr>\n",
       "      <th>2</th>\n",
       "      <td>3</td>\n",
       "      <td>37</td>\n",
       "      <td>402</td>\n",
       "      <td>2017-10-16</td>\n",
       "      <td>0</td>\n",
       "      <td>Approved</td>\n",
       "      <td>OHM Cycles</td>\n",
       "      <td>Standard</td>\n",
       "      <td>low</td>\n",
       "      <td>medium</td>\n",
       "      <td>1793.43</td>\n",
       "      <td>248.82</td>\n",
       "      <td>1999-07-20</td>\n",
       "      <td>1544.61</td>\n",
       "    </tr>\n",
       "    <tr>\n",
       "      <th>3</th>\n",
       "      <td>4</td>\n",
       "      <td>88</td>\n",
       "      <td>3135</td>\n",
       "      <td>2017-08-31</td>\n",
       "      <td>0</td>\n",
       "      <td>Approved</td>\n",
       "      <td>Norco Bicycles</td>\n",
       "      <td>Standard</td>\n",
       "      <td>medium</td>\n",
       "      <td>medium</td>\n",
       "      <td>1198.46</td>\n",
       "      <td>381.10</td>\n",
       "      <td>1998-12-16</td>\n",
       "      <td>817.36</td>\n",
       "    </tr>\n",
       "    <tr>\n",
       "      <th>4</th>\n",
       "      <td>5</td>\n",
       "      <td>78</td>\n",
       "      <td>787</td>\n",
       "      <td>2017-10-01</td>\n",
       "      <td>1</td>\n",
       "      <td>Approved</td>\n",
       "      <td>Giant Bicycles</td>\n",
       "      <td>Standard</td>\n",
       "      <td>medium</td>\n",
       "      <td>large</td>\n",
       "      <td>1765.30</td>\n",
       "      <td>709.48</td>\n",
       "      <td>2015-08-10</td>\n",
       "      <td>1055.82</td>\n",
       "    </tr>\n",
       "  </tbody>\n",
       "</table>\n",
       "</div>"
      ],
      "text/plain": [
       "   transaction_id  product_id  customer_id transaction_date  online_order  \\\n",
       "0               1           2         2950       2017-02-25             0   \n",
       "1               2           3         3120       2017-05-21             1   \n",
       "2               3          37          402       2017-10-16             0   \n",
       "3               4          88         3135       2017-08-31             0   \n",
       "4               5          78          787       2017-10-01             1   \n",
       "\n",
       "  order_status           brand product_line product_class product_size  \\\n",
       "0     Approved           Solex     Standard        medium       medium   \n",
       "1     Approved   Trek Bicycles     Standard        medium        large   \n",
       "2     Approved      OHM Cycles     Standard           low       medium   \n",
       "3     Approved  Norco Bicycles     Standard        medium       medium   \n",
       "4     Approved  Giant Bicycles     Standard        medium        large   \n",
       "\n",
       "   list_price  standard_cost product_first_sold_date   Profit  \n",
       "0       71.49          53.62              2012-12-02    17.87  \n",
       "1     2091.47         388.92              2014-03-03  1702.55  \n",
       "2     1793.43         248.82              1999-07-20  1544.61  \n",
       "3     1198.46         381.10              1998-12-16   817.36  \n",
       "4     1765.30         709.48              2015-08-10  1055.82  "
      ]
     },
     "execution_count": 56,
     "metadata": {},
     "output_type": "execute_result"
    }
   ],
   "source": [
    "Transactions.head()"
   ]
  },
  {
   "cell_type": "code",
   "execution_count": 57,
   "metadata": {},
   "outputs": [
    {
     "data": {
      "text/html": [
       "<div>\n",
       "<style scoped>\n",
       "    .dataframe tbody tr th:only-of-type {\n",
       "        vertical-align: middle;\n",
       "    }\n",
       "\n",
       "    .dataframe tbody tr th {\n",
       "        vertical-align: top;\n",
       "    }\n",
       "\n",
       "    .dataframe thead th {\n",
       "        text-align: right;\n",
       "    }\n",
       "</style>\n",
       "<table border=\"1\" class=\"dataframe\">\n",
       "  <thead>\n",
       "    <tr style=\"text-align: right;\">\n",
       "      <th></th>\n",
       "      <th>transaction_id</th>\n",
       "      <th>product_id</th>\n",
       "      <th>customer_id</th>\n",
       "      <th>online_order</th>\n",
       "      <th>list_price</th>\n",
       "      <th>standard_cost</th>\n",
       "      <th>Profit</th>\n",
       "    </tr>\n",
       "  </thead>\n",
       "  <tbody>\n",
       "    <tr>\n",
       "      <th>count</th>\n",
       "      <td>19445.000000</td>\n",
       "      <td>19445.000000</td>\n",
       "      <td>19445.000000</td>\n",
       "      <td>19445.000000</td>\n",
       "      <td>19445.000000</td>\n",
       "      <td>19445.000000</td>\n",
       "      <td>19445.000000</td>\n",
       "    </tr>\n",
       "    <tr>\n",
       "      <th>mean</th>\n",
       "      <td>9989.257393</td>\n",
       "      <td>45.797737</td>\n",
       "      <td>1739.467267</td>\n",
       "      <td>0.500849</td>\n",
       "      <td>1107.337193</td>\n",
       "      <td>555.585260</td>\n",
       "      <td>551.751933</td>\n",
       "    </tr>\n",
       "    <tr>\n",
       "      <th>std</th>\n",
       "      <td>5779.669087</td>\n",
       "      <td>30.571996</td>\n",
       "      <td>1011.889153</td>\n",
       "      <td>0.500012</td>\n",
       "      <td>582.662400</td>\n",
       "      <td>405.596541</td>\n",
       "      <td>493.211843</td>\n",
       "    </tr>\n",
       "    <tr>\n",
       "      <th>min</th>\n",
       "      <td>1.000000</td>\n",
       "      <td>0.000000</td>\n",
       "      <td>1.000000</td>\n",
       "      <td>0.000000</td>\n",
       "      <td>12.010000</td>\n",
       "      <td>7.210000</td>\n",
       "      <td>4.800000</td>\n",
       "    </tr>\n",
       "    <tr>\n",
       "      <th>25%</th>\n",
       "      <td>4976.000000</td>\n",
       "      <td>18.000000</td>\n",
       "      <td>857.000000</td>\n",
       "      <td>0.000000</td>\n",
       "      <td>575.270000</td>\n",
       "      <td>215.140000</td>\n",
       "      <td>133.780000</td>\n",
       "    </tr>\n",
       "    <tr>\n",
       "      <th>50%</th>\n",
       "      <td>9985.000000</td>\n",
       "      <td>45.000000</td>\n",
       "      <td>1741.000000</td>\n",
       "      <td>1.000000</td>\n",
       "      <td>1163.890000</td>\n",
       "      <td>507.580000</td>\n",
       "      <td>445.210000</td>\n",
       "    </tr>\n",
       "    <tr>\n",
       "      <th>75%</th>\n",
       "      <td>14997.000000</td>\n",
       "      <td>72.000000</td>\n",
       "      <td>2615.000000</td>\n",
       "      <td>1.000000</td>\n",
       "      <td>1635.300000</td>\n",
       "      <td>795.100000</td>\n",
       "      <td>830.240000</td>\n",
       "    </tr>\n",
       "    <tr>\n",
       "      <th>max</th>\n",
       "      <td>20000.000000</td>\n",
       "      <td>100.000000</td>\n",
       "      <td>5034.000000</td>\n",
       "      <td>1.000000</td>\n",
       "      <td>2091.470000</td>\n",
       "      <td>1759.850000</td>\n",
       "      <td>1702.550000</td>\n",
       "    </tr>\n",
       "  </tbody>\n",
       "</table>\n",
       "</div>"
      ],
      "text/plain": [
       "       transaction_id    product_id   customer_id  online_order    list_price  \\\n",
       "count    19445.000000  19445.000000  19445.000000  19445.000000  19445.000000   \n",
       "mean      9989.257393     45.797737   1739.467267      0.500849   1107.337193   \n",
       "std       5779.669087     30.571996   1011.889153      0.500012    582.662400   \n",
       "min          1.000000      0.000000      1.000000      0.000000     12.010000   \n",
       "25%       4976.000000     18.000000    857.000000      0.000000    575.270000   \n",
       "50%       9985.000000     45.000000   1741.000000      1.000000   1163.890000   \n",
       "75%      14997.000000     72.000000   2615.000000      1.000000   1635.300000   \n",
       "max      20000.000000    100.000000   5034.000000      1.000000   2091.470000   \n",
       "\n",
       "       standard_cost        Profit  \n",
       "count   19445.000000  19445.000000  \n",
       "mean      555.585260    551.751933  \n",
       "std       405.596541    493.211843  \n",
       "min         7.210000      4.800000  \n",
       "25%       215.140000    133.780000  \n",
       "50%       507.580000    445.210000  \n",
       "75%       795.100000    830.240000  \n",
       "max      1759.850000   1702.550000  "
      ]
     },
     "execution_count": 57,
     "metadata": {},
     "output_type": "execute_result"
    }
   ],
   "source": [
    "Transactions.describe()"
   ]
  },
  {
   "cell_type": "code",
   "execution_count": 8,
   "metadata": {},
   "outputs": [],
   "source": [
    "# Joining Transactions and Demographic\n",
    "Join = pd.merge(Transactions, Demographic, on='customer_id', how='inner')"
   ]
  },
  {
   "cell_type": "code",
   "execution_count": 9,
   "metadata": {},
   "outputs": [
    {
     "data": {
      "text/plain": [
       "['transaction_id',\n",
       " 'product_id',\n",
       " 'customer_id',\n",
       " 'transaction_date',\n",
       " 'online_order',\n",
       " 'order_status',\n",
       " 'brand',\n",
       " 'product_line',\n",
       " 'product_class',\n",
       " 'product_size',\n",
       " 'list_price',\n",
       " 'standard_cost',\n",
       " 'product_first_sold_date',\n",
       " 'Profit',\n",
       " 'first_name',\n",
       " 'last_name',\n",
       " 'gender',\n",
       " 'past_3_years_bike_related_purchases',\n",
       " 'DOB',\n",
       " 'job_title',\n",
       " 'job_industry_category',\n",
       " 'wealth_segment',\n",
       " 'deceased_indicator',\n",
       " 'owns_car',\n",
       " 'tenure',\n",
       " 'age',\n",
       " 'todays date']"
      ]
     },
     "execution_count": 9,
     "metadata": {},
     "output_type": "execute_result"
    }
   ],
   "source": [
    "list(Join)"
   ]
  },
  {
   "cell_type": "code",
   "execution_count": 10,
   "metadata": {},
   "outputs": [],
   "source": [
    "Join.drop(['transaction_date','order_status','product_first_sold_date','job_title','todays date','deceased_indicator'\n",
    "           ,'list_price','standard_cost'],axis=1,inplace=True)"
   ]
  },
  {
   "cell_type": "code",
   "execution_count": 11,
   "metadata": {},
   "outputs": [
    {
     "data": {
      "text/html": [
       "<div>\n",
       "<style scoped>\n",
       "    .dataframe tbody tr th:only-of-type {\n",
       "        vertical-align: middle;\n",
       "    }\n",
       "\n",
       "    .dataframe tbody tr th {\n",
       "        vertical-align: top;\n",
       "    }\n",
       "\n",
       "    .dataframe thead th {\n",
       "        text-align: right;\n",
       "    }\n",
       "</style>\n",
       "<table border=\"1\" class=\"dataframe\">\n",
       "  <thead>\n",
       "    <tr style=\"text-align: right;\">\n",
       "      <th></th>\n",
       "      <th>transaction_id</th>\n",
       "      <th>product_id</th>\n",
       "      <th>customer_id</th>\n",
       "      <th>online_order</th>\n",
       "      <th>brand</th>\n",
       "      <th>product_line</th>\n",
       "      <th>product_class</th>\n",
       "      <th>product_size</th>\n",
       "      <th>Profit</th>\n",
       "      <th>first_name</th>\n",
       "      <th>last_name</th>\n",
       "      <th>gender</th>\n",
       "      <th>past_3_years_bike_related_purchases</th>\n",
       "      <th>DOB</th>\n",
       "      <th>job_industry_category</th>\n",
       "      <th>wealth_segment</th>\n",
       "      <th>owns_car</th>\n",
       "      <th>tenure</th>\n",
       "      <th>age</th>\n",
       "    </tr>\n",
       "  </thead>\n",
       "  <tbody>\n",
       "    <tr>\n",
       "      <th>0</th>\n",
       "      <td>1</td>\n",
       "      <td>2</td>\n",
       "      <td>2950</td>\n",
       "      <td>0</td>\n",
       "      <td>Solex</td>\n",
       "      <td>Standard</td>\n",
       "      <td>medium</td>\n",
       "      <td>medium</td>\n",
       "      <td>17.87</td>\n",
       "      <td>Kristos</td>\n",
       "      <td>Anthony</td>\n",
       "      <td>Male</td>\n",
       "      <td>19</td>\n",
       "      <td>1955-01-11</td>\n",
       "      <td>Financial Services</td>\n",
       "      <td>Mass Customer</td>\n",
       "      <td>Yes</td>\n",
       "      <td>10</td>\n",
       "      <td>65</td>\n",
       "    </tr>\n",
       "    <tr>\n",
       "      <th>1</th>\n",
       "      <td>11065</td>\n",
       "      <td>1</td>\n",
       "      <td>2950</td>\n",
       "      <td>0</td>\n",
       "      <td>Giant Bicycles</td>\n",
       "      <td>Standard</td>\n",
       "      <td>medium</td>\n",
       "      <td>medium</td>\n",
       "      <td>448.68</td>\n",
       "      <td>Kristos</td>\n",
       "      <td>Anthony</td>\n",
       "      <td>Male</td>\n",
       "      <td>19</td>\n",
       "      <td>1955-01-11</td>\n",
       "      <td>Financial Services</td>\n",
       "      <td>Mass Customer</td>\n",
       "      <td>Yes</td>\n",
       "      <td>10</td>\n",
       "      <td>65</td>\n",
       "    </tr>\n",
       "    <tr>\n",
       "      <th>2</th>\n",
       "      <td>18923</td>\n",
       "      <td>62</td>\n",
       "      <td>2950</td>\n",
       "      <td>0</td>\n",
       "      <td>Solex</td>\n",
       "      <td>Standard</td>\n",
       "      <td>medium</td>\n",
       "      <td>medium</td>\n",
       "      <td>179.44</td>\n",
       "      <td>Kristos</td>\n",
       "      <td>Anthony</td>\n",
       "      <td>Male</td>\n",
       "      <td>19</td>\n",
       "      <td>1955-01-11</td>\n",
       "      <td>Financial Services</td>\n",
       "      <td>Mass Customer</td>\n",
       "      <td>Yes</td>\n",
       "      <td>10</td>\n",
       "      <td>65</td>\n",
       "    </tr>\n",
       "    <tr>\n",
       "      <th>3</th>\n",
       "      <td>2</td>\n",
       "      <td>3</td>\n",
       "      <td>3120</td>\n",
       "      <td>1</td>\n",
       "      <td>Trek Bicycles</td>\n",
       "      <td>Standard</td>\n",
       "      <td>medium</td>\n",
       "      <td>large</td>\n",
       "      <td>1702.55</td>\n",
       "      <td>Lauree</td>\n",
       "      <td>O'Donnell</td>\n",
       "      <td>Female</td>\n",
       "      <td>89</td>\n",
       "      <td>1979-02-04</td>\n",
       "      <td>Health</td>\n",
       "      <td>Mass Customer</td>\n",
       "      <td>Yes</td>\n",
       "      <td>10</td>\n",
       "      <td>41</td>\n",
       "    </tr>\n",
       "    <tr>\n",
       "      <th>4</th>\n",
       "      <td>6862</td>\n",
       "      <td>4</td>\n",
       "      <td>3120</td>\n",
       "      <td>0</td>\n",
       "      <td>Giant Bicycles</td>\n",
       "      <td>Standard</td>\n",
       "      <td>high</td>\n",
       "      <td>medium</td>\n",
       "      <td>451.65</td>\n",
       "      <td>Lauree</td>\n",
       "      <td>O'Donnell</td>\n",
       "      <td>Female</td>\n",
       "      <td>89</td>\n",
       "      <td>1979-02-04</td>\n",
       "      <td>Health</td>\n",
       "      <td>Mass Customer</td>\n",
       "      <td>Yes</td>\n",
       "      <td>10</td>\n",
       "      <td>41</td>\n",
       "    </tr>\n",
       "  </tbody>\n",
       "</table>\n",
       "</div>"
      ],
      "text/plain": [
       "   transaction_id  product_id  customer_id  online_order           brand  \\\n",
       "0               1           2         2950             0           Solex   \n",
       "1           11065           1         2950             0  Giant Bicycles   \n",
       "2           18923          62         2950             0           Solex   \n",
       "3               2           3         3120             1   Trek Bicycles   \n",
       "4            6862           4         3120             0  Giant Bicycles   \n",
       "\n",
       "  product_line product_class product_size   Profit first_name  last_name  \\\n",
       "0     Standard        medium       medium    17.87    Kristos    Anthony   \n",
       "1     Standard        medium       medium   448.68    Kristos    Anthony   \n",
       "2     Standard        medium       medium   179.44    Kristos    Anthony   \n",
       "3     Standard        medium        large  1702.55     Lauree  O'Donnell   \n",
       "4     Standard          high       medium   451.65     Lauree  O'Donnell   \n",
       "\n",
       "   gender  past_3_years_bike_related_purchases        DOB  \\\n",
       "0    Male                                   19 1955-01-11   \n",
       "1    Male                                   19 1955-01-11   \n",
       "2    Male                                   19 1955-01-11   \n",
       "3  Female                                   89 1979-02-04   \n",
       "4  Female                                   89 1979-02-04   \n",
       "\n",
       "  job_industry_category wealth_segment owns_car  tenure  age  \n",
       "0    Financial Services  Mass Customer      Yes      10   65  \n",
       "1    Financial Services  Mass Customer      Yes      10   65  \n",
       "2    Financial Services  Mass Customer      Yes      10   65  \n",
       "3                Health  Mass Customer      Yes      10   41  \n",
       "4                Health  Mass Customer      Yes      10   41  "
      ]
     },
     "execution_count": 11,
     "metadata": {},
     "output_type": "execute_result"
    }
   ],
   "source": [
    "Join.head()"
   ]
  },
  {
   "cell_type": "code",
   "execution_count": 12,
   "metadata": {},
   "outputs": [],
   "source": [
    "Join.drop(['first_name','last_name'],axis=1,inplace=True)"
   ]
  },
  {
   "cell_type": "code",
   "execution_count": 13,
   "metadata": {},
   "outputs": [
    {
     "data": {
      "text/html": [
       "<div>\n",
       "<style scoped>\n",
       "    .dataframe tbody tr th:only-of-type {\n",
       "        vertical-align: middle;\n",
       "    }\n",
       "\n",
       "    .dataframe tbody tr th {\n",
       "        vertical-align: top;\n",
       "    }\n",
       "\n",
       "    .dataframe thead th {\n",
       "        text-align: right;\n",
       "    }\n",
       "</style>\n",
       "<table border=\"1\" class=\"dataframe\">\n",
       "  <thead>\n",
       "    <tr style=\"text-align: right;\">\n",
       "      <th></th>\n",
       "      <th>transaction_id</th>\n",
       "      <th>product_id</th>\n",
       "      <th>customer_id</th>\n",
       "      <th>online_order</th>\n",
       "      <th>brand</th>\n",
       "      <th>product_line</th>\n",
       "      <th>product_class</th>\n",
       "      <th>product_size</th>\n",
       "      <th>Profit</th>\n",
       "      <th>gender</th>\n",
       "      <th>past_3_years_bike_related_purchases</th>\n",
       "      <th>DOB</th>\n",
       "      <th>job_industry_category</th>\n",
       "      <th>wealth_segment</th>\n",
       "      <th>owns_car</th>\n",
       "      <th>tenure</th>\n",
       "      <th>age</th>\n",
       "    </tr>\n",
       "  </thead>\n",
       "  <tbody>\n",
       "    <tr>\n",
       "      <th>0</th>\n",
       "      <td>1</td>\n",
       "      <td>2</td>\n",
       "      <td>2950</td>\n",
       "      <td>0</td>\n",
       "      <td>Solex</td>\n",
       "      <td>Standard</td>\n",
       "      <td>medium</td>\n",
       "      <td>medium</td>\n",
       "      <td>17.87</td>\n",
       "      <td>Male</td>\n",
       "      <td>19</td>\n",
       "      <td>1955-01-11</td>\n",
       "      <td>Financial Services</td>\n",
       "      <td>Mass Customer</td>\n",
       "      <td>Yes</td>\n",
       "      <td>10</td>\n",
       "      <td>65</td>\n",
       "    </tr>\n",
       "    <tr>\n",
       "      <th>1</th>\n",
       "      <td>11065</td>\n",
       "      <td>1</td>\n",
       "      <td>2950</td>\n",
       "      <td>0</td>\n",
       "      <td>Giant Bicycles</td>\n",
       "      <td>Standard</td>\n",
       "      <td>medium</td>\n",
       "      <td>medium</td>\n",
       "      <td>448.68</td>\n",
       "      <td>Male</td>\n",
       "      <td>19</td>\n",
       "      <td>1955-01-11</td>\n",
       "      <td>Financial Services</td>\n",
       "      <td>Mass Customer</td>\n",
       "      <td>Yes</td>\n",
       "      <td>10</td>\n",
       "      <td>65</td>\n",
       "    </tr>\n",
       "    <tr>\n",
       "      <th>2</th>\n",
       "      <td>18923</td>\n",
       "      <td>62</td>\n",
       "      <td>2950</td>\n",
       "      <td>0</td>\n",
       "      <td>Solex</td>\n",
       "      <td>Standard</td>\n",
       "      <td>medium</td>\n",
       "      <td>medium</td>\n",
       "      <td>179.44</td>\n",
       "      <td>Male</td>\n",
       "      <td>19</td>\n",
       "      <td>1955-01-11</td>\n",
       "      <td>Financial Services</td>\n",
       "      <td>Mass Customer</td>\n",
       "      <td>Yes</td>\n",
       "      <td>10</td>\n",
       "      <td>65</td>\n",
       "    </tr>\n",
       "    <tr>\n",
       "      <th>3</th>\n",
       "      <td>2</td>\n",
       "      <td>3</td>\n",
       "      <td>3120</td>\n",
       "      <td>1</td>\n",
       "      <td>Trek Bicycles</td>\n",
       "      <td>Standard</td>\n",
       "      <td>medium</td>\n",
       "      <td>large</td>\n",
       "      <td>1702.55</td>\n",
       "      <td>Female</td>\n",
       "      <td>89</td>\n",
       "      <td>1979-02-04</td>\n",
       "      <td>Health</td>\n",
       "      <td>Mass Customer</td>\n",
       "      <td>Yes</td>\n",
       "      <td>10</td>\n",
       "      <td>41</td>\n",
       "    </tr>\n",
       "    <tr>\n",
       "      <th>4</th>\n",
       "      <td>6862</td>\n",
       "      <td>4</td>\n",
       "      <td>3120</td>\n",
       "      <td>0</td>\n",
       "      <td>Giant Bicycles</td>\n",
       "      <td>Standard</td>\n",
       "      <td>high</td>\n",
       "      <td>medium</td>\n",
       "      <td>451.65</td>\n",
       "      <td>Female</td>\n",
       "      <td>89</td>\n",
       "      <td>1979-02-04</td>\n",
       "      <td>Health</td>\n",
       "      <td>Mass Customer</td>\n",
       "      <td>Yes</td>\n",
       "      <td>10</td>\n",
       "      <td>41</td>\n",
       "    </tr>\n",
       "  </tbody>\n",
       "</table>\n",
       "</div>"
      ],
      "text/plain": [
       "   transaction_id  product_id  customer_id  online_order           brand  \\\n",
       "0               1           2         2950             0           Solex   \n",
       "1           11065           1         2950             0  Giant Bicycles   \n",
       "2           18923          62         2950             0           Solex   \n",
       "3               2           3         3120             1   Trek Bicycles   \n",
       "4            6862           4         3120             0  Giant Bicycles   \n",
       "\n",
       "  product_line product_class product_size   Profit  gender  \\\n",
       "0     Standard        medium       medium    17.87    Male   \n",
       "1     Standard        medium       medium   448.68    Male   \n",
       "2     Standard        medium       medium   179.44    Male   \n",
       "3     Standard        medium        large  1702.55  Female   \n",
       "4     Standard          high       medium   451.65  Female   \n",
       "\n",
       "   past_3_years_bike_related_purchases        DOB job_industry_category  \\\n",
       "0                                   19 1955-01-11    Financial Services   \n",
       "1                                   19 1955-01-11    Financial Services   \n",
       "2                                   19 1955-01-11    Financial Services   \n",
       "3                                   89 1979-02-04                Health   \n",
       "4                                   89 1979-02-04                Health   \n",
       "\n",
       "  wealth_segment owns_car  tenure  age  \n",
       "0  Mass Customer      Yes      10   65  \n",
       "1  Mass Customer      Yes      10   65  \n",
       "2  Mass Customer      Yes      10   65  \n",
       "3  Mass Customer      Yes      10   41  \n",
       "4  Mass Customer      Yes      10   41  "
      ]
     },
     "execution_count": 13,
     "metadata": {},
     "output_type": "execute_result"
    }
   ],
   "source": [
    "Join.head()"
   ]
  },
  {
   "cell_type": "code",
   "execution_count": 14,
   "metadata": {},
   "outputs": [],
   "source": [
    "Join = pd.merge(Join,Address,on='customer_id', how='inner')"
   ]
  },
  {
   "cell_type": "code",
   "execution_count": 15,
   "metadata": {},
   "outputs": [
    {
     "data": {
      "text/plain": [
       "['transaction_id',\n",
       " 'product_id',\n",
       " 'customer_id',\n",
       " 'online_order',\n",
       " 'brand',\n",
       " 'product_line',\n",
       " 'product_class',\n",
       " 'product_size',\n",
       " 'Profit',\n",
       " 'gender',\n",
       " 'past_3_years_bike_related_purchases',\n",
       " 'DOB',\n",
       " 'job_industry_category',\n",
       " 'wealth_segment',\n",
       " 'owns_car',\n",
       " 'tenure',\n",
       " 'age',\n",
       " 'address',\n",
       " 'postcode',\n",
       " 'state',\n",
       " 'country',\n",
       " 'property_valuation']"
      ]
     },
     "execution_count": 15,
     "metadata": {},
     "output_type": "execute_result"
    }
   ],
   "source": [
    "list(Join)"
   ]
  },
  {
   "cell_type": "code",
   "execution_count": 16,
   "metadata": {},
   "outputs": [
    {
     "data": {
      "text/html": [
       "<div>\n",
       "<style scoped>\n",
       "    .dataframe tbody tr th:only-of-type {\n",
       "        vertical-align: middle;\n",
       "    }\n",
       "\n",
       "    .dataframe tbody tr th {\n",
       "        vertical-align: top;\n",
       "    }\n",
       "\n",
       "    .dataframe thead th {\n",
       "        text-align: right;\n",
       "    }\n",
       "</style>\n",
       "<table border=\"1\" class=\"dataframe\">\n",
       "  <thead>\n",
       "    <tr style=\"text-align: right;\">\n",
       "      <th></th>\n",
       "      <th>transaction_id</th>\n",
       "      <th>product_id</th>\n",
       "      <th>customer_id</th>\n",
       "      <th>online_order</th>\n",
       "      <th>brand</th>\n",
       "      <th>product_line</th>\n",
       "      <th>product_class</th>\n",
       "      <th>product_size</th>\n",
       "      <th>Profit</th>\n",
       "      <th>gender</th>\n",
       "      <th>...</th>\n",
       "      <th>job_industry_category</th>\n",
       "      <th>wealth_segment</th>\n",
       "      <th>owns_car</th>\n",
       "      <th>tenure</th>\n",
       "      <th>age</th>\n",
       "      <th>address</th>\n",
       "      <th>postcode</th>\n",
       "      <th>state</th>\n",
       "      <th>country</th>\n",
       "      <th>property_valuation</th>\n",
       "    </tr>\n",
       "  </thead>\n",
       "  <tbody>\n",
       "    <tr>\n",
       "      <th>0</th>\n",
       "      <td>1</td>\n",
       "      <td>2</td>\n",
       "      <td>2950</td>\n",
       "      <td>0</td>\n",
       "      <td>Solex</td>\n",
       "      <td>Standard</td>\n",
       "      <td>medium</td>\n",
       "      <td>medium</td>\n",
       "      <td>17.87</td>\n",
       "      <td>Male</td>\n",
       "      <td>...</td>\n",
       "      <td>Financial Services</td>\n",
       "      <td>Mass Customer</td>\n",
       "      <td>Yes</td>\n",
       "      <td>10</td>\n",
       "      <td>65</td>\n",
       "      <td>984 Hoepker Court</td>\n",
       "      <td>3064</td>\n",
       "      <td>VIC</td>\n",
       "      <td>Australia</td>\n",
       "      <td>6</td>\n",
       "    </tr>\n",
       "    <tr>\n",
       "      <th>1</th>\n",
       "      <td>11065</td>\n",
       "      <td>1</td>\n",
       "      <td>2950</td>\n",
       "      <td>0</td>\n",
       "      <td>Giant Bicycles</td>\n",
       "      <td>Standard</td>\n",
       "      <td>medium</td>\n",
       "      <td>medium</td>\n",
       "      <td>448.68</td>\n",
       "      <td>Male</td>\n",
       "      <td>...</td>\n",
       "      <td>Financial Services</td>\n",
       "      <td>Mass Customer</td>\n",
       "      <td>Yes</td>\n",
       "      <td>10</td>\n",
       "      <td>65</td>\n",
       "      <td>984 Hoepker Court</td>\n",
       "      <td>3064</td>\n",
       "      <td>VIC</td>\n",
       "      <td>Australia</td>\n",
       "      <td>6</td>\n",
       "    </tr>\n",
       "    <tr>\n",
       "      <th>2</th>\n",
       "      <td>18923</td>\n",
       "      <td>62</td>\n",
       "      <td>2950</td>\n",
       "      <td>0</td>\n",
       "      <td>Solex</td>\n",
       "      <td>Standard</td>\n",
       "      <td>medium</td>\n",
       "      <td>medium</td>\n",
       "      <td>179.44</td>\n",
       "      <td>Male</td>\n",
       "      <td>...</td>\n",
       "      <td>Financial Services</td>\n",
       "      <td>Mass Customer</td>\n",
       "      <td>Yes</td>\n",
       "      <td>10</td>\n",
       "      <td>65</td>\n",
       "      <td>984 Hoepker Court</td>\n",
       "      <td>3064</td>\n",
       "      <td>VIC</td>\n",
       "      <td>Australia</td>\n",
       "      <td>6</td>\n",
       "    </tr>\n",
       "    <tr>\n",
       "      <th>3</th>\n",
       "      <td>2</td>\n",
       "      <td>3</td>\n",
       "      <td>3120</td>\n",
       "      <td>1</td>\n",
       "      <td>Trek Bicycles</td>\n",
       "      <td>Standard</td>\n",
       "      <td>medium</td>\n",
       "      <td>large</td>\n",
       "      <td>1702.55</td>\n",
       "      <td>Female</td>\n",
       "      <td>...</td>\n",
       "      <td>Health</td>\n",
       "      <td>Mass Customer</td>\n",
       "      <td>Yes</td>\n",
       "      <td>10</td>\n",
       "      <td>41</td>\n",
       "      <td>4 Shopko Circle</td>\n",
       "      <td>2196</td>\n",
       "      <td>NSW</td>\n",
       "      <td>Australia</td>\n",
       "      <td>5</td>\n",
       "    </tr>\n",
       "    <tr>\n",
       "      <th>4</th>\n",
       "      <td>6862</td>\n",
       "      <td>4</td>\n",
       "      <td>3120</td>\n",
       "      <td>0</td>\n",
       "      <td>Giant Bicycles</td>\n",
       "      <td>Standard</td>\n",
       "      <td>high</td>\n",
       "      <td>medium</td>\n",
       "      <td>451.65</td>\n",
       "      <td>Female</td>\n",
       "      <td>...</td>\n",
       "      <td>Health</td>\n",
       "      <td>Mass Customer</td>\n",
       "      <td>Yes</td>\n",
       "      <td>10</td>\n",
       "      <td>41</td>\n",
       "      <td>4 Shopko Circle</td>\n",
       "      <td>2196</td>\n",
       "      <td>NSW</td>\n",
       "      <td>Australia</td>\n",
       "      <td>5</td>\n",
       "    </tr>\n",
       "  </tbody>\n",
       "</table>\n",
       "<p>5 rows × 22 columns</p>\n",
       "</div>"
      ],
      "text/plain": [
       "   transaction_id  product_id  customer_id  online_order           brand  \\\n",
       "0               1           2         2950             0           Solex   \n",
       "1           11065           1         2950             0  Giant Bicycles   \n",
       "2           18923          62         2950             0           Solex   \n",
       "3               2           3         3120             1   Trek Bicycles   \n",
       "4            6862           4         3120             0  Giant Bicycles   \n",
       "\n",
       "  product_line product_class product_size   Profit  gender  ...  \\\n",
       "0     Standard        medium       medium    17.87    Male  ...   \n",
       "1     Standard        medium       medium   448.68    Male  ...   \n",
       "2     Standard        medium       medium   179.44    Male  ...   \n",
       "3     Standard        medium        large  1702.55  Female  ...   \n",
       "4     Standard          high       medium   451.65  Female  ...   \n",
       "\n",
       "   job_industry_category wealth_segment owns_car tenure age  \\\n",
       "0     Financial Services  Mass Customer      Yes     10  65   \n",
       "1     Financial Services  Mass Customer      Yes     10  65   \n",
       "2     Financial Services  Mass Customer      Yes     10  65   \n",
       "3                 Health  Mass Customer      Yes     10  41   \n",
       "4                 Health  Mass Customer      Yes     10  41   \n",
       "\n",
       "             address  postcode state    country property_valuation  \n",
       "0  984 Hoepker Court      3064   VIC  Australia                  6  \n",
       "1  984 Hoepker Court      3064   VIC  Australia                  6  \n",
       "2  984 Hoepker Court      3064   VIC  Australia                  6  \n",
       "3    4 Shopko Circle      2196   NSW  Australia                  5  \n",
       "4    4 Shopko Circle      2196   NSW  Australia                  5  \n",
       "\n",
       "[5 rows x 22 columns]"
      ]
     },
     "execution_count": 16,
     "metadata": {},
     "output_type": "execute_result"
    }
   ],
   "source": [
    "Join.head()"
   ]
  },
  {
   "cell_type": "code",
   "execution_count": 17,
   "metadata": {},
   "outputs": [],
   "source": [
    "Join.drop(['DOB','country'],axis=1,inplace=True)"
   ]
  },
  {
   "cell_type": "code",
   "execution_count": 18,
   "metadata": {},
   "outputs": [
    {
     "data": {
      "text/plain": [
       "['transaction_id',\n",
       " 'product_id',\n",
       " 'customer_id',\n",
       " 'online_order',\n",
       " 'brand',\n",
       " 'product_line',\n",
       " 'product_class',\n",
       " 'product_size',\n",
       " 'Profit',\n",
       " 'gender',\n",
       " 'past_3_years_bike_related_purchases',\n",
       " 'job_industry_category',\n",
       " 'wealth_segment',\n",
       " 'owns_car',\n",
       " 'tenure',\n",
       " 'age',\n",
       " 'address',\n",
       " 'postcode',\n",
       " 'state',\n",
       " 'property_valuation']"
      ]
     },
     "execution_count": 18,
     "metadata": {},
     "output_type": "execute_result"
    }
   ],
   "source": [
    "list(Join)"
   ]
  },
  {
   "cell_type": "code",
   "execution_count": 69,
   "metadata": {},
   "outputs": [
    {
     "data": {
      "text/plain": [
       "gender\n",
       "Female    541.980029\n",
       "Male      557.752249\n",
       "Name: Profit, dtype: float64"
      ]
     },
     "execution_count": 69,
     "metadata": {},
     "output_type": "execute_result"
    }
   ],
   "source": [
    "Join.groupby('gender')['Profit'].mean()"
   ]
  },
  {
   "cell_type": "code",
   "execution_count": 70,
   "metadata": {},
   "outputs": [
    {
     "data": {
      "text/plain": [
       "gender\n",
       "Female    48.028043\n",
       "Male      49.763124\n",
       "Name: past_3_years_bike_related_purchases, dtype: float64"
      ]
     },
     "execution_count": 70,
     "metadata": {},
     "output_type": "execute_result"
    }
   ],
   "source": [
    "Join.groupby('gender')['past_3_years_bike_related_purchases'].mean()"
   ]
  },
  {
   "cell_type": "code",
   "execution_count": 71,
   "metadata": {},
   "outputs": [
    {
     "data": {
      "text/plain": [
       "job_industry_category\n",
       "Argiculture           51.937388\n",
       "Entertainment         45.944606\n",
       "Financial Services    49.010753\n",
       "Health                50.351270\n",
       "IT                    48.203540\n",
       "Manufacturing         48.367105\n",
       "Property              49.313301\n",
       "Retail                48.747381\n",
       "Telecommunications    41.897436\n",
       "Name: past_3_years_bike_related_purchases, dtype: float64"
      ]
     },
     "execution_count": 71,
     "metadata": {},
     "output_type": "execute_result"
    }
   ],
   "source": [
    "Join.groupby('job_industry_category')['past_3_years_bike_related_purchases'].mean()"
   ]
  },
  {
   "cell_type": "code",
   "execution_count": 72,
   "metadata": {},
   "outputs": [
    {
     "data": {
      "text/plain": [
       "wealth_segment\n",
       "Affluent Customer    49.803562\n",
       "High Net Worth       48.413810\n",
       "Mass Customer        48.665238\n",
       "Name: past_3_years_bike_related_purchases, dtype: float64"
      ]
     },
     "execution_count": 72,
     "metadata": {},
     "output_type": "execute_result"
    }
   ],
   "source": [
    "Join.groupby('wealth_segment')['past_3_years_bike_related_purchases'].mean()"
   ]
  },
  {
   "cell_type": "code",
   "execution_count": 73,
   "metadata": {},
   "outputs": [
    {
     "data": {
      "text/plain": [
       "job_industry_category\n",
       "Argiculture           537.685581\n",
       "Entertainment         554.238936\n",
       "Financial Services    561.064632\n",
       "Health                541.077707\n",
       "IT                    541.761711\n",
       "Manufacturing         544.979474\n",
       "Property              548.613349\n",
       "Retail                560.655838\n",
       "Telecommunications    531.801823\n",
       "Name: Profit, dtype: float64"
      ]
     },
     "execution_count": 73,
     "metadata": {},
     "output_type": "execute_result"
    }
   ],
   "source": [
    "Join.groupby('job_industry_category')['Profit'].mean()"
   ]
  },
  {
   "cell_type": "code",
   "execution_count": 74,
   "metadata": {},
   "outputs": [
    {
     "data": {
      "text/plain": [
       "wealth_segment\n",
       "Affluent Customer    554.302370\n",
       "High Net Worth       546.623773\n",
       "Mass Customer        549.059745\n",
       "Name: Profit, dtype: float64"
      ]
     },
     "execution_count": 74,
     "metadata": {},
     "output_type": "execute_result"
    }
   ],
   "source": [
    "Join.groupby('wealth_segment')['Profit'].mean()"
   ]
  },
  {
   "cell_type": "code",
   "execution_count": 75,
   "metadata": {},
   "outputs": [
    {
     "data": {
      "text/plain": [
       "owns_car\n",
       "No     48.690960\n",
       "Yes    49.064295\n",
       "Name: past_3_years_bike_related_purchases, dtype: float64"
      ]
     },
     "execution_count": 75,
     "metadata": {},
     "output_type": "execute_result"
    }
   ],
   "source": [
    "Join.groupby('owns_car')['past_3_years_bike_related_purchases'].mean()"
   ]
  },
  {
   "cell_type": "code",
   "execution_count": 76,
   "metadata": {},
   "outputs": [
    {
     "data": {
      "text/plain": [
       "owns_car\n",
       "No     541.217055\n",
       "Yes    558.028582\n",
       "Name: Profit, dtype: float64"
      ]
     },
     "execution_count": 76,
     "metadata": {},
     "output_type": "execute_result"
    }
   ],
   "source": [
    "Join.groupby('owns_car')['Profit'].mean()"
   ]
  },
  {
   "cell_type": "code",
   "execution_count": 77,
   "metadata": {},
   "outputs": [
    {
     "data": {
      "text/plain": [
       "Yes    8010\n",
       "No     7821\n",
       "Name: owns_car, dtype: int64"
      ]
     },
     "execution_count": 77,
     "metadata": {},
     "output_type": "execute_result"
    }
   ],
   "source": [
    "Join.owns_car.value_counts()"
   ]
  },
  {
   "cell_type": "code",
   "execution_count": 22,
   "metadata": {},
   "outputs": [
    {
     "data": {
      "text/plain": [
       "job_industry_category  owns_car  wealth_segment     Experience   tenure\n",
       "Manufacturing          No        High Net Worth     Senior       19         44.8550\n",
       "IT                     Yes       Mass Customer      Experienced  20         50.6600\n",
       "Telecommunications     Yes       High Net Worth     Senior       14        106.5275\n",
       "IT                     No        Mass Customer      Junior       7         110.2850\n",
       "Property               No        Affluent Customer  Fresher      3         126.6700\n",
       "                                                                             ...   \n",
       "Telecommunications     Yes       Mass Customer      Experienced  18             NaN\n",
       "                                                                 19             NaN\n",
       "                                                                 20             NaN\n",
       "                                                                 21             NaN\n",
       "                                                                 22             NaN\n",
       "Name: Profit, Length: 4752, dtype: float64"
      ]
     },
     "execution_count": 22,
     "metadata": {},
     "output_type": "execute_result"
    }
   ],
   "source": [
    "Join.groupby(['job_industry_category','owns_car','wealth_segment','Experience','tenure'])['Profit'].mean().sort_values()"
   ]
  },
  {
   "cell_type": "code",
   "execution_count": 20,
   "metadata": {},
   "outputs": [],
   "source": [
    "bin_names=['Teen','Young','Man','Retired']\n",
    "bin_edges=(10,20,35,60,100)\n",
    "Join['Life-Stage'] = pd.cut(Join['age'],bin_edges,labels=bin_names)"
   ]
  },
  {
   "cell_type": "code",
   "execution_count": 21,
   "metadata": {},
   "outputs": [],
   "source": [
    "bin_names=['Fresher','Junior','Senior','Experienced']\n",
    "bin_edges=(0,5,9,19,30)\n",
    "Join['Experience'] = pd.cut(Join['tenure'],bin_edges,labels=bin_names)"
   ]
  },
  {
   "cell_type": "code",
   "execution_count": null,
   "metadata": {},
   "outputs": [],
   "source": []
  },
  {
   "cell_type": "code",
   "execution_count": null,
   "metadata": {},
   "outputs": [],
   "source": []
  },
  {
   "cell_type": "code",
   "execution_count": null,
   "metadata": {},
   "outputs": [],
   "source": []
  },
  {
   "cell_type": "code",
   "execution_count": null,
   "metadata": {},
   "outputs": [],
   "source": []
  },
  {
   "cell_type": "markdown",
   "metadata": {},
   "source": [
    "### Created the Life-Stage and Experience columns using pd.cut"
   ]
  },
  {
   "cell_type": "code",
   "execution_count": 107,
   "metadata": {},
   "outputs": [],
   "source": [
    "#Copying the df\n",
    "Join1 = Join.copy()"
   ]
  },
  {
   "cell_type": "code",
   "execution_count": 108,
   "metadata": {},
   "outputs": [],
   "source": [
    "#Filtering according to above analysis\n",
    "a = Join1[Join1['job_industry_category'] == 'Telecommunication']"
   ]
  },
  {
   "cell_type": "code",
   "execution_count": 109,
   "metadata": {},
   "outputs": [],
   "source": [
    "a = a[a['owns_car'] == 'No']"
   ]
  },
  {
   "cell_type": "code",
   "execution_count": 110,
   "metadata": {},
   "outputs": [],
   "source": [
    "Category = ['High Net Worth','Mass Customer']\n",
    "a = a[a['wealth_segment'].isin(Category)]"
   ]
  },
  {
   "cell_type": "code",
   "execution_count": 112,
   "metadata": {},
   "outputs": [],
   "source": [
    "b = Join1[Join1['job_industry_category'] == 'IT']"
   ]
  },
  {
   "cell_type": "code",
   "execution_count": 113,
   "metadata": {},
   "outputs": [],
   "source": [
    "b = b[b['owns_car'] == 'No']"
   ]
  },
  {
   "cell_type": "code",
   "execution_count": 114,
   "metadata": {},
   "outputs": [],
   "source": [
    "Category = ['Affluent Customer','Mass Customer']\n",
    "b = b[b['wealth_segment'].isin(Category)]"
   ]
  },
  {
   "cell_type": "code",
   "execution_count": 115,
   "metadata": {},
   "outputs": [],
   "source": [
    "c = Join1[Join1['job_industry_category'] == 'Retail']"
   ]
  },
  {
   "cell_type": "code",
   "execution_count": 117,
   "metadata": {},
   "outputs": [],
   "source": [
    "c = c[c['owns_car'] == 'No']"
   ]
  },
  {
   "cell_type": "code",
   "execution_count": 119,
   "metadata": {},
   "outputs": [],
   "source": [
    "c = c[c['wealth_segment'] == 'Mass Customer']"
   ]
  },
  {
   "cell_type": "code",
   "execution_count": 149,
   "metadata": {},
   "outputs": [],
   "source": [
    "Join2 = pd.concat([a,b])"
   ]
  },
  {
   "cell_type": "code",
   "execution_count": 150,
   "metadata": {},
   "outputs": [
    {
     "data": {
      "text/plain": [
       "(236, 14)"
      ]
     },
     "execution_count": 150,
     "metadata": {},
     "output_type": "execute_result"
    }
   ],
   "source": [
    "Join2.shape"
   ]
  },
  {
   "cell_type": "code",
   "execution_count": 151,
   "metadata": {},
   "outputs": [],
   "source": [
    "Join2 = pd.concat([Join2,c])"
   ]
  },
  {
   "cell_type": "code",
   "execution_count": 127,
   "metadata": {},
   "outputs": [],
   "source": [
    "d = Join1[Join1['job_industry_category'] == 'Entertainment']"
   ]
  },
  {
   "cell_type": "code",
   "execution_count": 128,
   "metadata": {},
   "outputs": [],
   "source": [
    "d = d[d['owns_car'] == 'No']"
   ]
  },
  {
   "cell_type": "code",
   "execution_count": 129,
   "metadata": {},
   "outputs": [],
   "source": [
    "d = d[d['wealth_segment'] == ' Affluent Customer ']"
   ]
  },
  {
   "cell_type": "code",
   "execution_count": 130,
   "metadata": {},
   "outputs": [],
   "source": [
    "e = Join1[Join1['job_industry_category'] == 'Entertainment']"
   ]
  },
  {
   "cell_type": "code",
   "execution_count": 131,
   "metadata": {},
   "outputs": [],
   "source": [
    "e = e[e['owns_car'] == 'Yes']"
   ]
  },
  {
   "cell_type": "code",
   "execution_count": 132,
   "metadata": {},
   "outputs": [],
   "source": [
    "e = e[e['wealth_segment'] == ' Mass Customer ']"
   ]
  },
  {
   "cell_type": "code",
   "execution_count": 152,
   "metadata": {},
   "outputs": [],
   "source": [
    "Join2 = pd.concat([Join2,d])"
   ]
  },
  {
   "cell_type": "code",
   "execution_count": 153,
   "metadata": {},
   "outputs": [],
   "source": [
    "Join2 = pd.concat([Join2,e])"
   ]
  },
  {
   "cell_type": "code",
   "execution_count": 154,
   "metadata": {},
   "outputs": [
    {
     "data": {
      "text/plain": [
       "(700, 14)"
      ]
     },
     "execution_count": 154,
     "metadata": {},
     "output_type": "execute_result"
    }
   ],
   "source": [
    "Join2.shape"
   ]
  },
  {
   "cell_type": "code",
   "execution_count": 137,
   "metadata": {},
   "outputs": [],
   "source": [
    "f = Join1[Join1['job_industry_category'] == 'Property']"
   ]
  },
  {
   "cell_type": "code",
   "execution_count": 138,
   "metadata": {},
   "outputs": [],
   "source": [
    "f = f[f['owns_car'] == 'Yes']"
   ]
  },
  {
   "cell_type": "code",
   "execution_count": 139,
   "metadata": {},
   "outputs": [],
   "source": [
    "f = f[f['wealth_segment'] == 'Affluent Customer']"
   ]
  },
  {
   "cell_type": "code",
   "execution_count": 155,
   "metadata": {},
   "outputs": [],
   "source": [
    "Join2 = pd.concat([Join2,f])"
   ]
  },
  {
   "cell_type": "code",
   "execution_count": 141,
   "metadata": {},
   "outputs": [],
   "source": [
    "g = Join1[Join1['job_industry_category'] == 'Financial Services']"
   ]
  },
  {
   "cell_type": "code",
   "execution_count": 142,
   "metadata": {},
   "outputs": [],
   "source": [
    "g = g[g['owns_car'] == 'Yes']"
   ]
  },
  {
   "cell_type": "code",
   "execution_count": 143,
   "metadata": {},
   "outputs": [],
   "source": [
    "g = g[g['wealth_segment'] == 'High Net Worth']"
   ]
  },
  {
   "cell_type": "code",
   "execution_count": 156,
   "metadata": {},
   "outputs": [],
   "source": [
    "Join2 = pd.concat([Join2,g])"
   ]
  },
  {
   "cell_type": "code",
   "execution_count": 145,
   "metadata": {},
   "outputs": [
    {
     "data": {
      "text/plain": [
       "(1339, 14)"
      ]
     },
     "execution_count": 145,
     "metadata": {},
     "output_type": "execute_result"
    }
   ],
   "source": [
    "Join2.shape"
   ]
  },
  {
   "cell_type": "code",
   "execution_count": 146,
   "metadata": {},
   "outputs": [
    {
     "data": {
      "text/plain": [
       "Life-Stage  Experience \n",
       "Teen        Fresher        608.230690\n",
       "            Junior                NaN\n",
       "            Senior                NaN\n",
       "            Experienced           NaN\n",
       "Young       Fresher        517.818244\n",
       "            Junior         662.717400\n",
       "            Senior         633.304082\n",
       "            Experienced    741.451538\n",
       "Man         Fresher        533.916739\n",
       "            Junior         604.867550\n",
       "            Senior         599.775933\n",
       "            Experienced    692.271053\n",
       "Retired     Fresher        523.501429\n",
       "            Junior         613.991935\n",
       "            Senior         633.499048\n",
       "            Experienced    602.760476\n",
       "Name: Profit, dtype: float64"
      ]
     },
     "execution_count": 146,
     "metadata": {},
     "output_type": "execute_result"
    }
   ],
   "source": [
    "Join2.groupby(['Life-Stage','Experience'])['Profit'].mean()"
   ]
  },
  {
   "cell_type": "code",
   "execution_count": 157,
   "metadata": {},
   "outputs": [],
   "source": [
    "Exp = ['Senior','Experienced']\n",
    "a = Join2[(Join2['Life-Stage'] == 'Young') & (Join2['Experience'].isin(Exp))]"
   ]
  },
  {
   "cell_type": "code",
   "execution_count": 158,
   "metadata": {},
   "outputs": [],
   "source": [
    "b = Join2[(Join2['Life-Stage'] == 'Man') & (Join2['Experience'] == 'Experienced')]"
   ]
  },
  {
   "cell_type": "code",
   "execution_count": 159,
   "metadata": {},
   "outputs": [],
   "source": [
    "c = Join2[(Join2['Life-Stage'] == 'Retired') & (Join2['Experience'] == 'Senior')]"
   ]
  },
  {
   "cell_type": "code",
   "execution_count": 161,
   "metadata": {},
   "outputs": [],
   "source": [
    "Join3 = pd.concat([a,b])"
   ]
  },
  {
   "cell_type": "code",
   "execution_count": 162,
   "metadata": {},
   "outputs": [],
   "source": [
    "Join3 = pd.concat([Join3,c])"
   ]
  },
  {
   "cell_type": "markdown",
   "metadata": {},
   "source": [
    "Join3.shape"
   ]
  },
  {
   "cell_type": "code",
   "execution_count": 164,
   "metadata": {},
   "outputs": [
    {
     "data": {
      "text/plain": [
       "656.4552023121381"
      ]
     },
     "execution_count": 164,
     "metadata": {},
     "output_type": "execute_result"
    }
   ],
   "source": [
    "Join3.Profit.mean()"
   ]
  },
  {
   "attachments": {
    "1.JPG": {
     "image/jpeg": "[encoded data removed]"
    }
   },
   "cell_type": "markdown",
   "metadata": {},
   "source": [
    "## Factors for shortlisting customers\n",
    " -  ![1.JPG](attachment:1.JPG)"
   ]
  },
  {
   "cell_type": "markdown",
   "metadata": {},
   "source": [
    " - Young: Junior and Senior and Experienced\n",
    " - Man : Experienced\n",
    " - Retired: Senior"
   ]
  },
  {
   "cell_type": "code",
   "execution_count": 165,
   "metadata": {},
   "outputs": [],
   "source": [
    "Target = New_customer.copy()"
   ]
  },
  {
   "cell_type": "code",
   "execution_count": 176,
   "metadata": {},
   "outputs": [
    {
     "data": {
      "text/plain": [
       "['first_name',\n",
       " 'last_name',\n",
       " 'gender',\n",
       " 'past_3_years_bike_related_purchases',\n",
       " 'DOB',\n",
       " 'job_title',\n",
       " 'job_industry_category',\n",
       " 'wealth_segment',\n",
       " 'deceased_indicator',\n",
       " 'owns_car',\n",
       " 'tenure',\n",
       " 'address',\n",
       " 'postcode',\n",
       " 'state',\n",
       " 'country',\n",
       " 'property_valuation',\n",
       " 'Rank',\n",
       " 'Value',\n",
       " 'Age',\n",
       " \"Today's Date\",\n",
       " 'Life-Stage',\n",
       " 'Experience']"
      ]
     },
     "execution_count": 176,
     "metadata": {},
     "output_type": "execute_result"
    }
   ],
   "source": [
    "list(Target)"
   ]
  },
  {
   "cell_type": "code",
   "execution_count": 167,
   "metadata": {},
   "outputs": [
    {
     "name": "stdout",
     "output_type": "stream",
     "text": [
      "0\n",
      "23\n",
      "0\n",
      "0\n",
      "0\n",
      "83\n",
      "0\n",
      "0\n",
      "0\n",
      "0\n",
      "0\n",
      "0\n",
      "0\n",
      "0\n",
      "0\n",
      "0\n",
      "0\n",
      "0\n",
      "0\n",
      "0\n"
     ]
    }
   ],
   "source": [
    "for name in list(Target):\n",
    "    print(sum(Target[name].isnull()))"
   ]
  },
  {
   "cell_type": "code",
   "execution_count": 174,
   "metadata": {},
   "outputs": [],
   "source": [
    "#Creating new column for Life-Stage and Experience\n",
    "bin_names=['Teen','Young','Man','Retired']\n",
    "bin_edges=(10,20,35,60,100)\n",
    "Target['Life-Stage'] = pd.cut(Target['Age'],bin_edges,labels=bin_names)"
   ]
  },
  {
   "cell_type": "code",
   "execution_count": 175,
   "metadata": {},
   "outputs": [],
   "source": [
    "bin_names=['Fresher','Junior','Senior','Experienced']\n",
    "bin_edges=(0,5,9,19,30)\n",
    "Target['Experience'] = pd.cut(Target['tenure'],bin_edges,labels=bin_names)"
   ]
  },
  {
   "cell_type": "code",
   "execution_count": 177,
   "metadata": {},
   "outputs": [],
   "source": [
    "Target.drop([\"Today's Date\"],axis=1,inplace=True)"
   ]
  },
  {
   "cell_type": "code",
   "execution_count": 213,
   "metadata": {},
   "outputs": [],
   "source": [
    "#Filtering target customers\n",
    "a = Target[(Target['job_industry_category'] == 'Telecommunications') & (Target['owns_car'] == 'No')]"
   ]
  },
  {
   "cell_type": "code",
   "execution_count": 214,
   "metadata": {},
   "outputs": [],
   "source": [
    "a = a[(a['wealth_segment'] == 'High Net Worth')]  "
   ]
  },
  {
   "cell_type": "code",
   "execution_count": 215,
   "metadata": {},
   "outputs": [
    {
     "data": {
      "text/plain": [
       "(8, 21)"
      ]
     },
     "execution_count": 215,
     "metadata": {},
     "output_type": "execute_result"
    }
   ],
   "source": [
    "a.shape"
   ]
  },
  {
   "cell_type": "code",
   "execution_count": 216,
   "metadata": {},
   "outputs": [],
   "source": [
    "g = Target[(Target['job_industry_category'] == 'Telecommunications') & (Target['owns_car'] == 'No')]\n",
    "g = g[(g['wealth_segment'] == 'Mass Customer')]"
   ]
  },
  {
   "cell_type": "code",
   "execution_count": 217,
   "metadata": {},
   "outputs": [
    {
     "data": {
      "text/plain": [
       "(5, 21)"
      ]
     },
     "execution_count": 217,
     "metadata": {},
     "output_type": "execute_result"
    }
   ],
   "source": [
    "g.shape"
   ]
  },
  {
   "cell_type": "code",
   "execution_count": 218,
   "metadata": {},
   "outputs": [],
   "source": [
    "Target1 = pd.concat([a,g])"
   ]
  },
  {
   "cell_type": "code",
   "execution_count": 219,
   "metadata": {},
   "outputs": [],
   "source": [
    "b =  Target[(Target['job_industry_category'] == 'Retail') & (Target['owns_car'] == 'Yes') & (Target['wealth_segment'] == 'Mass Customer')]"
   ]
  },
  {
   "cell_type": "code",
   "execution_count": 220,
   "metadata": {},
   "outputs": [
    {
     "data": {
      "text/plain": [
       "(23, 21)"
      ]
     },
     "execution_count": 220,
     "metadata": {},
     "output_type": "execute_result"
    }
   ],
   "source": [
    "b.shape"
   ]
  },
  {
   "cell_type": "code",
   "execution_count": 221,
   "metadata": {},
   "outputs": [],
   "source": [
    "Target1 = pd.concat([Target1,b])"
   ]
  },
  {
   "cell_type": "code",
   "execution_count": 222,
   "metadata": {},
   "outputs": [],
   "source": [
    "c =  Target[(Target['job_industry_category'] == 'Entertainment') & (Target['owns_car'] == 'No') & (Target['wealth_segment'] == 'Affluent Customer')]"
   ]
  },
  {
   "cell_type": "code",
   "execution_count": 223,
   "metadata": {},
   "outputs": [
    {
     "data": {
      "text/plain": [
       "(4, 21)"
      ]
     },
     "execution_count": 223,
     "metadata": {},
     "output_type": "execute_result"
    }
   ],
   "source": [
    "c.shape"
   ]
  },
  {
   "cell_type": "code",
   "execution_count": 224,
   "metadata": {},
   "outputs": [],
   "source": [
    "Target1 = pd.concat([Target1,c])"
   ]
  },
  {
   "cell_type": "code",
   "execution_count": 225,
   "metadata": {},
   "outputs": [],
   "source": [
    "d= Target[(Target['job_industry_category'] == 'Entertainment') & (Target['owns_car'] == 'Yes') & (Target['wealth_segment'] == 'Mass Customer')]"
   ]
  },
  {
   "cell_type": "code",
   "execution_count": 226,
   "metadata": {},
   "outputs": [
    {
     "data": {
      "text/plain": [
       "(9, 21)"
      ]
     },
     "execution_count": 226,
     "metadata": {},
     "output_type": "execute_result"
    }
   ],
   "source": [
    "d.shape"
   ]
  },
  {
   "cell_type": "code",
   "execution_count": 227,
   "metadata": {},
   "outputs": [],
   "source": [
    "Target1 = pd.concat([Target1,d])"
   ]
  },
  {
   "cell_type": "code",
   "execution_count": 228,
   "metadata": {},
   "outputs": [],
   "source": [
    "e = Target[(Target['job_industry_category'] == 'IT') & (Target['owns_car'] == 'No')]"
   ]
  },
  {
   "cell_type": "code",
   "execution_count": 229,
   "metadata": {},
   "outputs": [],
   "source": [
    "e = e[(e['wealth_segment'] == 'Affluent Customer')] "
   ]
  },
  {
   "cell_type": "code",
   "execution_count": 230,
   "metadata": {},
   "outputs": [
    {
     "data": {
      "text/plain": [
       "(4, 21)"
      ]
     },
     "execution_count": 230,
     "metadata": {},
     "output_type": "execute_result"
    }
   ],
   "source": [
    "e.shape"
   ]
  },
  {
   "cell_type": "code",
   "execution_count": 231,
   "metadata": {},
   "outputs": [],
   "source": [
    "Target1 = pd.concat([Target1,e])"
   ]
  },
  {
   "cell_type": "code",
   "execution_count": 232,
   "metadata": {},
   "outputs": [],
   "source": [
    "h = Target[(Target['job_industry_category'] == 'IT') & (Target['owns_car'] == 'No')]\n",
    "h = h[(h['wealth_segment'] == 'Mass Customer')] "
   ]
  },
  {
   "cell_type": "code",
   "execution_count": 233,
   "metadata": {},
   "outputs": [],
   "source": [
    "Target1 = pd.concat([Target1,h])"
   ]
  },
  {
   "cell_type": "code",
   "execution_count": 234,
   "metadata": {},
   "outputs": [],
   "source": [
    "f =  Target[(Target['job_industry_category'] == 'Property') & (Target['owns_car'] == 'Yes') & (Target['wealth_segment'] == 'Affluent Customer')]"
   ]
  },
  {
   "cell_type": "code",
   "execution_count": 235,
   "metadata": {},
   "outputs": [
    {
     "data": {
      "text/plain": [
       "(9, 21)"
      ]
     },
     "execution_count": 235,
     "metadata": {},
     "output_type": "execute_result"
    }
   ],
   "source": [
    "f.shape"
   ]
  },
  {
   "cell_type": "code",
   "execution_count": 236,
   "metadata": {},
   "outputs": [],
   "source": [
    "Target1 = pd.concat([Target1,f])"
   ]
  },
  {
   "cell_type": "code",
   "execution_count": 237,
   "metadata": {},
   "outputs": [
    {
     "data": {
      "text/plain": [
       "(70, 21)"
      ]
     },
     "execution_count": 237,
     "metadata": {},
     "output_type": "execute_result"
    }
   ],
   "source": [
    "Target1.shape"
   ]
  },
  {
   "cell_type": "code",
   "execution_count": 238,
   "metadata": {},
   "outputs": [],
   "source": [
    "i =  Target[(Target['job_industry_category'] == 'Financial Services') & (Target['owns_car'] == 'Yes') & (Target['wealth_segment'] == 'High Net Worth')]"
   ]
  },
  {
   "cell_type": "code",
   "execution_count": 239,
   "metadata": {},
   "outputs": [
    {
     "data": {
      "text/plain": [
       "(24, 21)"
      ]
     },
     "execution_count": 239,
     "metadata": {},
     "output_type": "execute_result"
    }
   ],
   "source": [
    "i.shape"
   ]
  },
  {
   "cell_type": "code",
   "execution_count": 240,
   "metadata": {},
   "outputs": [],
   "source": [
    "Target1 = pd.concat([Target1,i])"
   ]
  },
  {
   "cell_type": "code",
   "execution_count": 241,
   "metadata": {},
   "outputs": [
    {
     "data": {
      "text/plain": [
       "(94, 21)"
      ]
     },
     "execution_count": 241,
     "metadata": {},
     "output_type": "execute_result"
    }
   ],
   "source": [
    "Target1.shape"
   ]
  },
  {
   "cell_type": "code",
   "execution_count": 243,
   "metadata": {},
   "outputs": [
    {
     "data": {
      "text/html": [
       "<div>\n",
       "<style scoped>\n",
       "    .dataframe tbody tr th:only-of-type {\n",
       "        vertical-align: middle;\n",
       "    }\n",
       "\n",
       "    .dataframe tbody tr th {\n",
       "        vertical-align: top;\n",
       "    }\n",
       "\n",
       "    .dataframe thead th {\n",
       "        text-align: right;\n",
       "    }\n",
       "</style>\n",
       "<table border=\"1\" class=\"dataframe\">\n",
       "  <thead>\n",
       "    <tr style=\"text-align: right;\">\n",
       "      <th></th>\n",
       "      <th>past_3_years_bike_related_purchases</th>\n",
       "      <th>tenure</th>\n",
       "      <th>postcode</th>\n",
       "      <th>property_valuation</th>\n",
       "      <th>Rank</th>\n",
       "      <th>Value</th>\n",
       "      <th>Age</th>\n",
       "    </tr>\n",
       "  </thead>\n",
       "  <tbody>\n",
       "    <tr>\n",
       "      <th>count</th>\n",
       "      <td>94.000000</td>\n",
       "      <td>94.000000</td>\n",
       "      <td>94.000000</td>\n",
       "      <td>94.000000</td>\n",
       "      <td>94.000000</td>\n",
       "      <td>94.000000</td>\n",
       "      <td>94.000000</td>\n",
       "    </tr>\n",
       "    <tr>\n",
       "      <th>mean</th>\n",
       "      <td>51.627660</td>\n",
       "      <td>11.319149</td>\n",
       "      <td>3005.882979</td>\n",
       "      <td>7.138298</td>\n",
       "      <td>495.542553</td>\n",
       "      <td>0.883561</td>\n",
       "      <td>48.851064</td>\n",
       "    </tr>\n",
       "    <tr>\n",
       "      <th>std</th>\n",
       "      <td>25.708868</td>\n",
       "      <td>4.999382</td>\n",
       "      <td>889.111915</td>\n",
       "      <td>2.942463</td>\n",
       "      <td>287.286140</td>\n",
       "      <td>0.292058</td>\n",
       "      <td>17.247071</td>\n",
       "    </tr>\n",
       "    <tr>\n",
       "      <th>min</th>\n",
       "      <td>0.000000</td>\n",
       "      <td>1.000000</td>\n",
       "      <td>2022.000000</td>\n",
       "      <td>1.000000</td>\n",
       "      <td>8.000000</td>\n",
       "      <td>0.391000</td>\n",
       "      <td>18.000000</td>\n",
       "    </tr>\n",
       "    <tr>\n",
       "      <th>25%</th>\n",
       "      <td>33.750000</td>\n",
       "      <td>7.000000</td>\n",
       "      <td>2185.250000</td>\n",
       "      <td>5.000000</td>\n",
       "      <td>253.750000</td>\n",
       "      <td>0.665937</td>\n",
       "      <td>33.250000</td>\n",
       "    </tr>\n",
       "    <tr>\n",
       "      <th>50%</th>\n",
       "      <td>52.500000</td>\n",
       "      <td>11.500000</td>\n",
       "      <td>2763.000000</td>\n",
       "      <td>8.000000</td>\n",
       "      <td>486.000000</td>\n",
       "      <td>0.875000</td>\n",
       "      <td>48.000000</td>\n",
       "    </tr>\n",
       "    <tr>\n",
       "      <th>75%</th>\n",
       "      <td>71.750000</td>\n",
       "      <td>15.000000</td>\n",
       "      <td>4031.750000</td>\n",
       "      <td>9.000000</td>\n",
       "      <td>730.750000</td>\n",
       "      <td>1.070469</td>\n",
       "      <td>63.750000</td>\n",
       "    </tr>\n",
       "    <tr>\n",
       "      <th>max</th>\n",
       "      <td>98.000000</td>\n",
       "      <td>22.000000</td>\n",
       "      <td>4814.000000</td>\n",
       "      <td>12.000000</td>\n",
       "      <td>993.000000</td>\n",
       "      <td>1.656250</td>\n",
       "      <td>81.000000</td>\n",
       "    </tr>\n",
       "  </tbody>\n",
       "</table>\n",
       "</div>"
      ],
      "text/plain": [
       "       past_3_years_bike_related_purchases     tenure     postcode  \\\n",
       "count                            94.000000  94.000000    94.000000   \n",
       "mean                             51.627660  11.319149  3005.882979   \n",
       "std                              25.708868   4.999382   889.111915   \n",
       "min                               0.000000   1.000000  2022.000000   \n",
       "25%                              33.750000   7.000000  2185.250000   \n",
       "50%                              52.500000  11.500000  2763.000000   \n",
       "75%                              71.750000  15.000000  4031.750000   \n",
       "max                              98.000000  22.000000  4814.000000   \n",
       "\n",
       "       property_valuation        Rank      Value        Age  \n",
       "count           94.000000   94.000000  94.000000  94.000000  \n",
       "mean             7.138298  495.542553   0.883561  48.851064  \n",
       "std              2.942463  287.286140   0.292058  17.247071  \n",
       "min              1.000000    8.000000   0.391000  18.000000  \n",
       "25%              5.000000  253.750000   0.665937  33.250000  \n",
       "50%              8.000000  486.000000   0.875000  48.000000  \n",
       "75%              9.000000  730.750000   1.070469  63.750000  \n",
       "max             12.000000  993.000000   1.656250  81.000000  "
      ]
     },
     "execution_count": 243,
     "metadata": {},
     "output_type": "execute_result"
    }
   ],
   "source": [
    "Target1.describe()"
   ]
  },
  {
   "cell_type": "code",
   "execution_count": 244,
   "metadata": {},
   "outputs": [],
   "source": [
    "#Exporting the targets as excel file\n",
    "Target1.to_excel('Target1.xlsx')"
   ]
  },
  {
   "cell_type": "code",
   "execution_count": null,
   "metadata": {},
   "outputs": [],
   "source": []
  },
  {
   "cell_type": "code",
   "execution_count": null,
   "metadata": {},
   "outputs": [],
   "source": []
  },
  {
   "cell_type": "code",
   "execution_count": null,
   "metadata": {},
   "outputs": [],
   "source": []
  },
  {
   "cell_type": "code",
   "execution_count": null,
   "metadata": {},
   "outputs": [],
   "source": []
  },
  {
   "cell_type": "code",
   "execution_count": null,
   "metadata": {},
   "outputs": [],
   "source": []
  }
 ],
 "metadata": {
  "kernelspec": {
   "display_name": "Python 3",
   "language": "python",
   "name": "python3"
  },
  "language_info": {
   "codemirror_mode": {
    "name": "ipython",
    "version": 3
   },
   "file_extension": ".py",
   "mimetype": "text/x-python",
   "name": "python",
   "nbconvert_exporter": "python",
   "pygments_lexer": "ipython3",
   "version": "3.7.7"
  }
 },
 "nbformat": 4,
 "nbformat_minor": 4
}
